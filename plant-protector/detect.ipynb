{
 "cells": [
  {
   "cell_type": "code",
   "execution_count": null,
   "id": "64fc8ef0-c31c-4689-9ca0-6c7e62cf2241",
   "metadata": {},
   "outputs": [],
   "source": [
    "from gpiozero import LightSensor\n",
    "import RPi.GPIO as GPIO"
   ]
  },
  {
   "cell_type": "code",
   "execution_count": null,
   "id": "f4b6dc33-b929-47f2-81e7-469f3aa1d180",
   "metadata": {},
   "outputs": [],
   "source": [
    "# Stepper motor ULN2003 IN1-IN4\n",
    "IN1 = 17\n",
    "IN2 = 18\n",
    "IN3 = 27\n",
    "IN4 = 22\n",
    "\n",
    "# Stepper motor steps for opening shield\n",
    "steps_open = 128\n",
    "\n",
    "# Stepper motor steps for closing shield\n",
    "steps_close = -128"
   ]
  },
  {
   "cell_type": "code",
   "execution_count": null,
   "id": "d4f43c84-0dfe-4c5c-9fae-f075b52a164e",
   "metadata": {},
   "outputs": [],
   "source": [
    "# Stepper motor half-step sequence\n",
    "SEQ = [\n",
    "    [1,0,0,0],\n",
    "    [1,1,0,0],\n",
    "    [0,1,0,0],\n",
    "    [0,1,1,0],\n",
    "    [0,0,1,0],\n",
    "    [0,0,1,1],\n",
    "    [0,0,0,1],\n",
    "    [1,0,0,1]\n",
    "]\n",
    "\n",
    "# Streaks\n",
    "fog_streak = 0\n",
    "sun_streak = 0\n",
    "\n",
    "# Light Sensor\n",
    "ldr = LightSensor(4)"
   ]
  },
  {
   "cell_type": "code",
   "execution_count": null,
   "id": "06ec6069-134e-4880-a696-a97ea27fac3a",
   "metadata": {},
   "outputs": [],
   "source": [
    "def step_motor(steps, delay=0.002):\n",
    "    \"\"\"Move motor by number of steps\"\"\"\n",
    "    if steps > 0:\n",
    "        seq = SEQ\n",
    "    else:\n",
    "        seq = SEQ[::-1]\n",
    "        steps = -steps\n",
    "    for a in range(steps):\n",
    "        for pattern in seq:\n",
    "            GPIO.output(IN1, pattern[0])\n",
    "            GPIO.output(IN2, pattern[1])\n",
    "            GPIO.output(IN3, pattern[2])\n",
    "            GPIO.output(IN4, pattern[3])\n",
    "            time.sleep(delay)"
   ]
  },
  {
   "cell_type": "code",
   "execution_count": null,
   "id": "c3641316-6046-499b-be4d-5ce446847f62",
   "metadata": {},
   "outputs": [],
   "source": [
    "def fog_or_sun(ldr):\n",
    "    \"\"\"Returns a string for the type of weather(foggy, sunny)\"\"\"\n",
    "    if ldr.value < 200:\n",
    "        return \"sun\"\n",
    "    else:\n",
    "        return \"fog\""
   ]
  },
  {
   "cell_type": "code",
   "execution_count": null,
   "id": "67294494-f4ed-4f8d-94dc-0a01240a5e0b",
   "metadata": {},
   "outputs": [],
   "source": [
    "def motor_on_weather(ldr):\n",
    "    weather = fog_or_sun(ldr)\n",
    "    if weather == \"fog\":\n",
    "        if fog_streak == 0:\n",
    "            step_motor(steps_open)\n",
    "        fog_streak += 1\n",
    "        sun_streak = 0\n",
    "        print(\"Fog Detected!\")\n",
    "    else:\n",
    "        if fog_streak >= 1:\n",
    "            step_motor(steps_close)\n",
    "        sun_streak += 1\n",
    "        fog_streak = 0\n",
    "        print(\"Sunlight Detected!\")"
   ]
  },
  {
   "cell_type": "code",
   "execution_count": null,
   "id": "81f8c3db-fe59-4734-bed8-ec964a3ffd5a",
   "metadata": {},
   "outputs": [],
   "source": [
    "try:\n",
    "    while True:\n",
    "        motor_on_weather(ldr)\n",
    "except KeyboardInterrupt:\n",
    "    print(\"Exiting...\")\n",
    "finally:\n",
    "    motor_cleanup()"
   ]
  }
 ],
 "metadata": {
  "kernelspec": {
   "display_name": "Python 3 (ipykernel)",
   "language": "python",
   "name": "python3"
  },
  "language_info": {
   "codemirror_mode": {
    "name": "ipython",
    "version": 3
   },
   "file_extension": ".py",
   "mimetype": "text/x-python",
   "name": "python",
   "nbconvert_exporter": "python",
   "pygments_lexer": "ipython3",
   "version": "3.13.2"
  }
 },
 "nbformat": 4,
 "nbformat_minor": 5
}
