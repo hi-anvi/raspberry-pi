{
 "cells": [
  {
   "cell_type": "code",
   "execution_count": 1,
   "id": "b920bf4f-e195-40b3-8b43-118655cf8038",
   "metadata": {},
   "outputs": [],
   "source": [
    "# Import modules\n",
    "import cv2\n",
    "import numpy as np\n",
    "import RPi.GPIO as GPIO"
   ]
  },
  {
   "cell_type": "code",
   "execution_count": null,
   "id": "6bce2823-60ab-4f77-9a2b-57bdc81d174d",
   "metadata": {},
   "outputs": [],
   "source": [
    "# Stepper motor ULN2003 IN1-IN4\n",
    "IN1 = 17\n",
    "IN2 = 18\n",
    "IN3 = 27\n",
    "IN4 = 22\n",
    "\n",
    "# Stepper motor steps for opening shield\n",
    "steps_open = 128\n",
    "\n",
    "# Stepper motor steps for closing shield\n",
    "steps_close = -128"
   ]
  },
  {
   "cell_type": "code",
   "execution_count": null,
   "id": "a3f0b5ce-56de-4f3b-b283-6bdfef5b4c4b",
   "metadata": {},
   "outputs": [],
   "source": [
    "# Stepper motor half-step sequence\n",
    "SEQ = [\n",
    "    [1,0,0,0],\n",
    "    [1,1,0,0],\n",
    "    [0,1,0,0],\n",
    "    [0,1,1,0],\n",
    "    [0,0,1,0],\n",
    "    [0,0,1,1],\n",
    "    [0,0,0,1],\n",
    "    [1,0,0,1]\n",
    "]\n",
    "\n",
    "# Streaks\n",
    "fog_streak = 0\n",
    "sun_streak = 0"
   ]
  },
  {
   "cell_type": "code",
   "execution_count": 2,
   "id": "594ab744-c3b9-4d47-8eed-12001e1a94e2",
   "metadata": {},
   "outputs": [],
   "source": [
    "def detect_fog(image):\n",
    "    \"\"\"Returns true if fog detected otherwise false\"\"\"\n",
    "    gray = cv2.cvtColor(image, cv2.COLOR_BGR2GRAY)\n",
    "    laplacian_var = cv2.Laplacian(gray, cv2.CV_64F).var()\n",
    "    print(f\"Laplacian Variance: {laplacian_var}\")\n",
    "    if laplacian_var < 50:  # Tunable threshold\n",
    "        return True\n",
    "    return False"
   ]
  },
  {
   "cell_type": "code",
   "execution_count": 3,
   "id": "465e9efe-9dcc-412b-919a-e86e97bb886d",
   "metadata": {},
   "outputs": [],
   "source": [
    "def detect_sunlight(image):\n",
    "    \"\"\"Returns true if sunlight detected otherwise false\"\"\"\n",
    "    height = image.shape[0]\n",
    "    top_region = image[0:int(height * 0.3), :, :]\n",
    "    hsv = cv2.cvtColor(top_region, cv2.COLOR_BGR2HSV)\n",
    "    brightness = np.mean(hsv[:, :, 2])\n",
    "    print(f\"Top Brightness: {brightness}\")\n",
    "    if brightness > 200:  # Tunable threshold\n",
    "        return True\n",
    "    return False"
   ]
  },
  {
   "cell_type": "code",
   "execution_count": null,
   "id": "5ade39b6-7287-416a-b0d7-62d0471d966a",
   "metadata": {},
   "outputs": [],
   "source": [
    "def step_motor(steps, delay=0.002):\n",
    "    \"\"\"Move motor by number of steps\"\"\"\n",
    "    if steps > 0:\n",
    "        seq = SEQ\n",
    "    else:\n",
    "        seq = SEQ[::-1]\n",
    "        steps = -steps\n",
    "    for _ in range(steps):\n",
    "        for pattern in seq:\n",
    "            GPIO.output(IN1, pattern[0])\n",
    "            GPIO.output(IN2, pattern[1])\n",
    "            GPIO.output(IN3, pattern[2])\n",
    "            GPIO.output(IN4, pattern[3])\n",
    "            time.sleep(delay)"
   ]
  },
  {
   "cell_type": "code",
   "execution_count": null,
   "id": "e9aab42f-0554-494f-bbba-b4c858eece46",
   "metadata": {},
   "outputs": [],
   "source": [
    "def cleanup_motor():\n",
    "    \"\"\"Turn off all motor coils\"\"\"\n",
    "    GPIO.output(IN1, 0)\n",
    "    GPIO.output(IN2, 0)\n",
    "    GPIO.output(IN3, 0)\n",
    "    GPIO.output(IN4, 0)"
   ]
  },
  {
   "cell_type": "code",
   "execution_count": 4,
   "id": "e189fec9-ddcf-46c3-8a67-30c0b0a9fb64",
   "metadata": {},
   "outputs": [],
   "source": [
    "def main(fog_streak, sun_streak):\n",
    "    cap = cv2.VideoCapture(0)  # 0 is default camera\n",
    "\n",
    "    if not cap.isOpened():\n",
    "        print(\"Camera not accessible\")\n",
    "        return 0\n",
    "    print(\"Starting...\")\n",
    "    try:\n",
    "        while True:\n",
    "            ret, frame = cap.read()\n",
    "            if not ret:\n",
    "                break\n",
    "    \n",
    "            fog = detect_fog(frame)\n",
    "            sunlight = detect_sunlight(frame)\n",
    "    \n",
    "            label = \"\"\n",
    "            if fog:\n",
    "                label = \"Fog Detected\"\n",
    "                if fog_streak >= 1:\n",
    "                    sun_streak = 0\n",
    "                    step_motor(steps_open)\n",
    "                fog_streak += 1\n",
    "            if sunlight:\n",
    "                label = \"Sunlight Detected\"\n",
    "                if sun_streak >= 1:\n",
    "                    fog_streak = 0\n",
    "                    step_motor(steps_close)\n",
    "                sun_streak += 1\n",
    "            if not sunlight and not fog:\n",
    "                label = \"\"\n",
    "                fog_streak = 0\n",
    "                sun_streak = 0\n",
    "    \n",
    "            cv2.putText(frame, label, (10, 30), cv2.FONT_HERSHEY_SIMPLEX,\n",
    "                        1, (0, 0, 255), 2, cv2.LINE_AA)\n",
    "    \n",
    "            cv2.imshow('Detection', frame)\n",
    "    \n",
    "            if cv2.waitKey(1) & 0xFF == ord('q'):\n",
    "                break\n",
    "    except KeyboardInterrupt:\n",
    "        print(\"Exiting...\")\n",
    "    finally:\n",
    "        cleanup_motor()\n",
    "        cap.release()\n",
    "        cv2.destroyAllWindows()"
   ]
  },
  {
   "cell_type": "code",
   "execution_count": null,
   "id": "0c93db8d-d57e-4610-be1b-82af34952413",
   "metadata": {},
   "outputs": [],
   "source": [
    "if __name__ == '__main__':\n",
    "    main(fog_streak, sun_streak)"
   ]
  }
 ],
 "metadata": {
  "kernelspec": {
   "display_name": "Python 3 (ipykernel)",
   "language": "python",
   "name": "python3"
  },
  "language_info": {
   "codemirror_mode": {
    "name": "ipython",
    "version": 3
   },
   "file_extension": ".py",
   "mimetype": "text/x-python",
   "name": "python",
   "nbconvert_exporter": "python",
   "pygments_lexer": "ipython3",
   "version": "3.13.2"
  }
 },
 "nbformat": 4,
 "nbformat_minor": 5
}
